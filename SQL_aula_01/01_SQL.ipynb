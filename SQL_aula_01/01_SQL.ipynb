{
 "cells": [
  {
   "cell_type": "code",
   "execution_count": 1,
   "metadata": {},
   "outputs": [],
   "source": [
    "import sqlite3\n",
    "import pandas as pd"
   ]
  },
  {
   "cell_type": "code",
   "execution_count": 2,
   "metadata": {},
   "outputs": [],
   "source": [
    "db = sqlite3.connect(\"my_list_notes.db\")\n",
    "\n",
    "cursor = db.cursor()"
   ]
  },
  {
   "cell_type": "code",
   "execution_count": 3,
   "metadata": {},
   "outputs": [
    {
     "data": {
      "text/plain": [
       "<sqlite3.Cursor at 0x172a22d41c0>"
      ]
     },
     "execution_count": 3,
     "metadata": {},
     "output_type": "execute_result"
    }
   ],
   "source": [
    "cursor.execute(\"CREATE TABLE user (user_id integer, name text, email text, password text)\")\n",
    "cursor.execute(\"CREATE TABLE note (note_id integer, title text, description text, content text, user_id integer, created_at datetime, updated_at datetime)\")\n"
   ]
  },
  {
   "cell_type": "code",
   "execution_count": 5,
   "metadata": {},
   "outputs": [
    {
     "data": {
      "text/plain": [
       "<sqlite3.Cursor at 0x172a22d41c0>"
      ]
     },
     "execution_count": 5,
     "metadata": {},
     "output_type": "execute_result"
    }
   ],
   "source": [
    "cursor.execute(\"INSERT INTO user VALUES (0, 'João', 'joao@gmail.com', '123')\")\n",
    "cursor.execute(\"INSERT INTO user VALUES (1, 'Maria', 'maria@gmail.com', '123')\")\n",
    "cursor.execute(\"INSERT INTO user VALUES (2, 'José', 'jose@gmail.com', '123')\")\n",
    "cursor.execute(\"INSERT INTO note VALUES (0, 'SQL Database', 'How SQL database works', 'This is a note about SQL database', 0, '2024-04-03 21:40:00', '2024-04-03 21:40:00')\")\n",
    "cursor.execute(\"INSERT INTO note VALUES (1, 'Python', 'How Python works', 'This is a note about Python', 1, '2024-04-03 21:40:00', '2024-04-03 21:40:00')\")\n",
    "cursor.execute(\"INSERT INTO note VALUES (2, 'JavaScript', 'How JavaScript works', 'This is a note about JavaScript', 2, '2024-04-03 21:40:00', '2024-04-03 21:40:00')\")"
   ]
  },
  {
   "cell_type": "code",
   "execution_count": 6,
   "metadata": {},
   "outputs": [
    {
     "name": "stdout",
     "output_type": "stream",
     "text": [
      "[(0, 'SQL Database', 'How SQL database works', 'This is a note about SQL database', 0, '2024-04-03 21:40:00', '2024-04-03 21:40:00'), (1, 'Python', 'How Python works', 'This is a note about Python', 1, '2024-04-03 21:40:00', '2024-04-03 21:40:00'), (2, 'JavaScript', 'How JavaScript works', 'This is a note about JavaScript', 2, '2024-04-03 21:40:00', '2024-04-03 21:40:00')]\n"
     ]
    }
   ],
   "source": [
    "cursor.execute(\"SELECT * FROM user\")\n",
    "cursor.execute(\"SELECT * FROM note\")\n",
    "\n",
    "print(cursor.fetchall())"
   ]
  },
  {
   "cell_type": "code",
   "execution_count": 7,
   "metadata": {},
   "outputs": [
    {
     "data": {
      "text/html": [
       "<div>\n",
       "<style scoped>\n",
       "    .dataframe tbody tr th:only-of-type {\n",
       "        vertical-align: middle;\n",
       "    }\n",
       "\n",
       "    .dataframe tbody tr th {\n",
       "        vertical-align: top;\n",
       "    }\n",
       "\n",
       "    .dataframe thead th {\n",
       "        text-align: right;\n",
       "    }\n",
       "</style>\n",
       "<table border=\"1\" class=\"dataframe\">\n",
       "  <thead>\n",
       "    <tr style=\"text-align: right;\">\n",
       "      <th></th>\n",
       "      <th>user_id</th>\n",
       "      <th>name</th>\n",
       "      <th>email</th>\n",
       "      <th>password</th>\n",
       "    </tr>\n",
       "  </thead>\n",
       "  <tbody>\n",
       "    <tr>\n",
       "      <th>0</th>\n",
       "      <td>0</td>\n",
       "      <td>João</td>\n",
       "      <td>joao@gmail.com</td>\n",
       "      <td>123</td>\n",
       "    </tr>\n",
       "    <tr>\n",
       "      <th>1</th>\n",
       "      <td>1</td>\n",
       "      <td>Maria</td>\n",
       "      <td>maria@gmail.com</td>\n",
       "      <td>123</td>\n",
       "    </tr>\n",
       "    <tr>\n",
       "      <th>2</th>\n",
       "      <td>2</td>\n",
       "      <td>José</td>\n",
       "      <td>jose@gmail.com</td>\n",
       "      <td>123</td>\n",
       "    </tr>\n",
       "  </tbody>\n",
       "</table>\n",
       "</div>"
      ],
      "text/plain": [
       "   user_id   name            email password\n",
       "0        0   João   joao@gmail.com      123\n",
       "1        1  Maria  maria@gmail.com      123\n",
       "2        2   José   jose@gmail.com      123"
      ]
     },
     "execution_count": 7,
     "metadata": {},
     "output_type": "execute_result"
    }
   ],
   "source": [
    "query_user = \"SELECT * FROM user\"\n",
    "\n",
    "df_user = pd.read_sql_query(query_user, db)\n",
    "df_user.head()"
   ]
  },
  {
   "cell_type": "code",
   "execution_count": 8,
   "metadata": {},
   "outputs": [
    {
     "data": {
      "text/html": [
       "<div>\n",
       "<style scoped>\n",
       "    .dataframe tbody tr th:only-of-type {\n",
       "        vertical-align: middle;\n",
       "    }\n",
       "\n",
       "    .dataframe tbody tr th {\n",
       "        vertical-align: top;\n",
       "    }\n",
       "\n",
       "    .dataframe thead th {\n",
       "        text-align: right;\n",
       "    }\n",
       "</style>\n",
       "<table border=\"1\" class=\"dataframe\">\n",
       "  <thead>\n",
       "    <tr style=\"text-align: right;\">\n",
       "      <th></th>\n",
       "      <th>note_id</th>\n",
       "      <th>title</th>\n",
       "      <th>description</th>\n",
       "      <th>content</th>\n",
       "      <th>user_id</th>\n",
       "      <th>created_at</th>\n",
       "      <th>updated_at</th>\n",
       "    </tr>\n",
       "  </thead>\n",
       "  <tbody>\n",
       "    <tr>\n",
       "      <th>0</th>\n",
       "      <td>0</td>\n",
       "      <td>SQL Database</td>\n",
       "      <td>How SQL database works</td>\n",
       "      <td>This is a note about SQL database</td>\n",
       "      <td>0</td>\n",
       "      <td>2024-04-03 21:40:00</td>\n",
       "      <td>2024-04-03 21:40:00</td>\n",
       "    </tr>\n",
       "    <tr>\n",
       "      <th>1</th>\n",
       "      <td>1</td>\n",
       "      <td>Python</td>\n",
       "      <td>How Python works</td>\n",
       "      <td>This is a note about Python</td>\n",
       "      <td>1</td>\n",
       "      <td>2024-04-03 21:40:00</td>\n",
       "      <td>2024-04-03 21:40:00</td>\n",
       "    </tr>\n",
       "    <tr>\n",
       "      <th>2</th>\n",
       "      <td>2</td>\n",
       "      <td>JavaScript</td>\n",
       "      <td>How JavaScript works</td>\n",
       "      <td>This is a note about JavaScript</td>\n",
       "      <td>2</td>\n",
       "      <td>2024-04-03 21:40:00</td>\n",
       "      <td>2024-04-03 21:40:00</td>\n",
       "    </tr>\n",
       "  </tbody>\n",
       "</table>\n",
       "</div>"
      ],
      "text/plain": [
       "   note_id         title             description  \\\n",
       "0        0  SQL Database  How SQL database works   \n",
       "1        1        Python        How Python works   \n",
       "2        2    JavaScript    How JavaScript works   \n",
       "\n",
       "                             content  user_id           created_at  \\\n",
       "0  This is a note about SQL database        0  2024-04-03 21:40:00   \n",
       "1        This is a note about Python        1  2024-04-03 21:40:00   \n",
       "2    This is a note about JavaScript        2  2024-04-03 21:40:00   \n",
       "\n",
       "            updated_at  \n",
       "0  2024-04-03 21:40:00  \n",
       "1  2024-04-03 21:40:00  \n",
       "2  2024-04-03 21:40:00  "
      ]
     },
     "execution_count": 8,
     "metadata": {},
     "output_type": "execute_result"
    }
   ],
   "source": [
    "df_notes = pd.read_sql_query(\"SELECT * FROM note\", db)\n",
    "df_notes.head()\n",
    "\n"
   ]
  }
 ],
 "metadata": {
  "kernelspec": {
   "display_name": "Python 3",
   "language": "python",
   "name": "python3"
  },
  "language_info": {
   "codemirror_mode": {
    "name": "ipython",
    "version": 3
   },
   "file_extension": ".py",
   "mimetype": "text/x-python",
   "name": "python",
   "nbconvert_exporter": "python",
   "pygments_lexer": "ipython3",
   "version": "3.11.2"
  }
 },
 "nbformat": 4,
 "nbformat_minor": 2
}
